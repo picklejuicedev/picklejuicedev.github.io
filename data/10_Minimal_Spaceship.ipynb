{
 "cells": [
  {
   "cell_type": "markdown",
   "id": "51a825ee-5ec6-4984-b644-ade7771f102e",
   "metadata": {},
   "source": [
    "## Basic Preprocessing for spaceflight Titanic Training data"
   ]
  },
  {
   "cell_type": "code",
   "execution_count": null,
   "id": "0308b9ab-ebf1-44a2-90c6-f0201b4e5be1",
   "metadata": {},
   "outputs": [],
   "source": [
    "!pip install pandas scikit-learn"
   ]
  },
  {
   "cell_type": "code",
   "execution_count": null,
   "id": "61d0a279-b0bc-49f2-870e-1e8f8145f9b5",
   "metadata": {},
   "outputs": [],
   "source": [
    "import pandas as pd\n",
    "from sklearn.preprocessing import LabelEncoder"
   ]
  },
  {
   "cell_type": "code",
   "execution_count": null,
   "id": "d9fa0872-5b5a-4f65-bcc7-8379c65b61dd",
   "metadata": {},
   "outputs": [],
   "source": [
    "df_train = pd.read_csv(\"train.csv\")\n",
    "#df_train = catalog.load(\"train\")\n",
    "df_train.head()"
   ]
  },
  {
   "cell_type": "code",
   "execution_count": null,
   "id": "445e76e7-802e-473b-93b5-f3bc1185fce8",
   "metadata": {},
   "outputs": [],
   "source": [
    "# traveling alone\n",
    "\n",
    "# split out group id\n",
    "# create list of non-unique group ids\n",
    "# create alone property, set true if not in group list\n",
    "\n",
    "split_df = df_train[\"PassengerId\"].str.split(pat=\"_\",expand=True)\n",
    "alone = split_df[0].value_counts()\n",
    "split_df = split_df.merge(alone.rename(\"groupSize\"), left_on=0, right_index=True)\n",
    "df_train[\"groupSize\"] = split_df['groupSize']\n",
    "df_train.head()"
   ]
  },
  {
   "cell_type": "code",
   "execution_count": null,
   "id": "dc264457-cff2-4181-b227-96441a61c988",
   "metadata": {},
   "outputs": [],
   "source": [
    "#deal with Nan: fill costs with 0.0, remove all others\n",
    "cols = [\"RoomService\",\"FoodCourt\",\"ShoppingMall\",\"Spa\",\"VRDeck\"]\n",
    "df_train[cols]=df_train[cols].fillna(0.0)\n",
    "\n",
    "df_train = df_train.dropna()"
   ]
  },
  {
   "cell_type": "code",
   "execution_count": null,
   "id": "5a3d0efc-828c-40ea-b8b6-ee84155192e4",
   "metadata": {},
   "outputs": [],
   "source": [
    "# convert strings to enums using labelencoder\n",
    "\n",
    "cols = ['HomePlanet', \"CryoSleep\", \"Destination\",\"VIP\"]\n",
    "df_train[cols] = df_train[cols].apply(LabelEncoder().fit_transform)\n",
    "\n",
    "# drop name column\n",
    "df_train = df_train.drop(columns=[\"Name\"])\n",
    "df_train.head()"
   ]
  },
  {
   "cell_type": "markdown",
   "id": "7657867c-51c6-490e-ac0d-3a0a3f707b01",
   "metadata": {},
   "source": [
    "## Create model"
   ]
  },
  {
   "cell_type": "code",
   "execution_count": null,
   "id": "cb3090fc-06b8-4299-85c8-8e8a784bcc52",
   "metadata": {},
   "outputs": [],
   "source": [
    "from sklearn.ensemble import RandomForestClassifier\n",
    "from sklearn.metrics import accuracy_score, log_loss, precision_score, recall_score, f1_score\n",
    "from sklearn.model_selection import train_test_split,cross_validate,cross_val_score\n"
   ]
  },
  {
   "cell_type": "code",
   "execution_count": null,
   "id": "18056383-0e9f-402d-9906-011674cfdd6b",
   "metadata": {},
   "outputs": [],
   "source": [
    "df = df_train"
   ]
  },
  {
   "cell_type": "code",
   "execution_count": null,
   "id": "85054d65-5fe7-431b-9570-4af9928427e9",
   "metadata": {},
   "outputs": [],
   "source": [
    "df.head()"
   ]
  },
  {
   "cell_type": "code",
   "execution_count": null,
   "id": "1df70627-a8a3-4528-a2b1-3be054ee070e",
   "metadata": {},
   "outputs": [],
   "source": [
    "train_df = df.drop(columns=[\"PassengerId\", \"Transported\", \"Cabin\"])\n",
    "target_df = df[\"Transported\"]"
   ]
  },
  {
   "cell_type": "code",
   "execution_count": null,
   "id": "4c013aba-c95d-4256-86cd-005ba5620858",
   "metadata": {},
   "outputs": [],
   "source": [
    "# split data into training and test data\n",
    "X_train,X_test,y_train,y_test = train_test_split(train_df,target_df,test_size=0.3,random_state=5981)\n",
    "\n"
   ]
  },
  {
   "cell_type": "code",
   "execution_count": null,
   "id": "ad66e5ad-c506-4caf-b104-6ef3ab424702",
   "metadata": {},
   "outputs": [],
   "source": [
    "# create model\n",
    "clf = RandomForestClassifier()\n",
    "clf.fit(X_train, y_train)"
   ]
  },
  {
   "cell_type": "markdown",
   "id": "c4f51349-5879-4be3-b901-e0257c017f3e",
   "metadata": {},
   "source": [
    "## Testing and reporting Model Accuracy"
   ]
  },
  {
   "cell_type": "code",
   "execution_count": null,
   "id": "3ecded91-cbd4-4b23-ae9a-4a4327a1043a",
   "metadata": {},
   "outputs": [],
   "source": [
    "\n",
    "print(\"---------- RandomForest ----------\")\n",
    "\n",
    "y_pred = clf.predict(X_test)\n",
    "print(\"Accuracy =\",\"%.2f\"%(accuracy_score(y_test, y_pred)*100), \"%\")\n",
    "print(\"Precision =\",\"%.2f\"%(precision_score(y_test, y_pred)*100), \"%\")\n",
    "print(\"Recall =\",\"%.2f\"%(recall_score(y_test, y_pred)*100), \"%\")\n",
    "print(\"F1-Score =\",\"%.2f\"%(f1_score(y_test, y_pred)*100), \"%\")"
   ]
  },
  {
   "cell_type": "code",
   "execution_count": null,
   "id": "eafe4eeb-8b22-45b9-a950-a12ec9891ccc",
   "metadata": {},
   "outputs": [],
   "source": []
  }
 ],
 "metadata": {
  "kernelspec": {
   "display_name": "Kedro (kedro_project)",
   "language": "python",
   "name": "kedro_kedro_project"
  },
  "language_info": {
   "codemirror_mode": {
    "name": "ipython",
    "version": 3
   },
   "file_extension": ".py",
   "mimetype": "text/x-python",
   "name": "python",
   "nbconvert_exporter": "python",
   "pygments_lexer": "ipython3",
   "version": "3.10.7"
  },
  "vscode": {
   "interpreter": {
    "hash": "1a6711a32f7f1a80a4a000aabb7083239e417e74062e4b7a43ea6860655b9f7b"
   }
  }
 },
 "nbformat": 4,
 "nbformat_minor": 5
}
